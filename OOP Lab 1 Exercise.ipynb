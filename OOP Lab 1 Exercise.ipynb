{
 "cells": [
  {
   "cell_type": "markdown",
   "metadata": {},
   "source": [
    "## Object Oriented Programming Lab - 1\n",
    "\n",
    "### Python Review\n",
    "\n",
    "### Student Name: Syed Ibtahaj Ahmed Rizvi\n",
    "### Student Id:FA18 - BECE - 0016\n",
    "\n",
    "\n",
    "### Objective\n",
    "To Familiarize with the Programming Environment and Review Python Programming Basics.\n",
    "\n",
    "### Exercise"
   ]
  },
  {
   "cell_type": "markdown",
   "metadata": {},
   "source": [
    "1- Install Jupyter Notebook on your desktop."
   ]
  },
  {
   "cell_type": "markdown",
   "metadata": {},
   "source": [
    "2- Create a Program to display your name."
   ]
  },
  {
   "cell_type": "code",
   "execution_count": null,
   "metadata": {},
   "outputs": [],
   "source": [
    "'WRITE YOUR CODE IN THIS CELL'\n",
    "name = \"Syed Ibtahaj Ahmed Rizvi\"\n",
    "print(name)"
   ]
  },
  {
   "cell_type": "markdown",
   "metadata": {},
   "source": [
    "3- Use for Loops to Generate a sequence of 10 random integers."
   ]
  },
  {
   "cell_type": "code",
   "execution_count": null,
   "metadata": {},
   "outputs": [],
   "source": [
    "'WRITE YOUR CODE IN THIS CELL'\n",
    "import random\n",
    "for i in range(1,11):\n",
    "    print(i,\".  \",random.randint(0,100))"
   ]
  },
  {
   "cell_type": "markdown",
   "metadata": {},
   "source": [
    "4- Create a List of 5 Random words and arrange them in Alphabetical Order"
   ]
  },
  {
   "cell_type": "code",
   "execution_count": null,
   "metadata": {},
   "outputs": [],
   "source": [
    "'WRITE YOUR CODE IN THIS CELL'\n",
    "name = []\n",
    "for i in range(0,4):\n",
    "    name.append(str(input(\"Enter Any Word: \")))\n",
    "print(\"Unsorted List:\\n\")\n",
    "for i in name:\n",
    "    print(i)\n",
    "name.sort()\n",
    "print(\"\\n\\nSorted List:\\n\")\n",
    "for i in name:\n",
    "    print(i)"
   ]
  },
  {
   "cell_type": "markdown",
   "metadata": {},
   "source": [
    "5- Use While Loops to create a Password Protected Calculator that takes two numbers as input and returns their sum and average.\n",
    "\n"
   ]
  },
  {
   "cell_type": "code",
   "execution_count": null,
   "metadata": {},
   "outputs": [],
   "source": [
    "'WRITE YOUR CODE IN THIS CELL'\n",
    "password = str(input(\"Please Enter The Password:\"))\n",
    "while (password != \"sYed\"):\n",
    "    print(\"Invalid Password\")\n",
    "    password = str(input(\"Please Again Enter The Password:\"))\n",
    "while(password == \"sYed\"):\n",
    "        print(\"\\n\\nWelcome To Calculator!\")\n",
    "        num1 = int(input(\"Please Enter First Number:\"))\n",
    "        num2 = int(input(\"Please Enter Second Number:\"))\n",
    "        sum_num = num1 + num2\n",
    "        ave = sum_num / 2\n",
    "        print(\"The Sum Of Given Two Numbers Is : \", sum_num)\n",
    "        print(\"The Average Of Given Two Numbers Is : \", ave)\n",
    "        password = str(input(\"Please Enter Password To Use Calculator Again Or Press Any Key To quit The Program:\"))\n",
    "        if(password != \"sYed\"):\n",
    "            print(\"Thanks For Using\")"
   ]
  },
  {
   "cell_type": "markdown",
   "metadata": {},
   "source": [
    "6- Define a function that returns average value of four float type numbers\n"
   ]
  },
  {
   "cell_type": "code",
   "execution_count": null,
   "metadata": {},
   "outputs": [],
   "source": [
    "'WRITE YOUR CODE IN THIS CELL'\n",
    "def average(num1, num2, num3, num4):\n",
    "    sum_float = num1 + num2 + num3 + num4\n",
    "    ave = sum_float / 4\n",
    "    return ave\n",
    "\n",
    "num1 = float(input(\"Please Enter First Float Number: \\n\"))\n",
    "num2 = float(input(\"Please Enter Second Float Number: \\n\"))\n",
    "num3 = float(input(\"Please Enter Third Float Number: \\n\"))\n",
    "num4 = float(input(\"Please Enter Fourth Float Number: \\n\"))\n",
    "\n",
    "print(\"\\nThe Average Of The Given Four Nnumbers Is :\", average(num1, num2, num3, num4))"
   ]
  }
 ],
 "metadata": {
  "kernelspec": {
   "display_name": "Python 3",
   "language": "python",
   "name": "python3"
  },
  "language_info": {
   "codemirror_mode": {
    "name": "ipython",
    "version": 3
   },
   "file_extension": ".py",
   "mimetype": "text/x-python",
   "name": "python",
   "nbconvert_exporter": "python",
   "pygments_lexer": "ipython3",
   "version": "3.7.3"
  }
 },
 "nbformat": 4,
 "nbformat_minor": 2
}
