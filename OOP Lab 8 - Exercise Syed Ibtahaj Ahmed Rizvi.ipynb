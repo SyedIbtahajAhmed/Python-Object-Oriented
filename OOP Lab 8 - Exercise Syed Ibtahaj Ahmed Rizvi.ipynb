{
 "cells": [
  {
   "cell_type": "markdown",
   "metadata": {},
   "source": [
    "## OOP Lab 8 - Exercise\n",
    "\n",
    "## Introduction to Numpy\n",
    "\n",
    "### Student Name: Syed Ibtahaj Ahmed Rizvi\n",
    "### Student Id: FA18 - BECE - 0016\n",
    "\n",
    "### Objective\n",
    "\n",
    "To learn the use of Numpy for creating OOP based programs in Python"
   ]
  },
  {
   "cell_type": "markdown",
   "metadata": {},
   "source": [
    "1- The formula to find AC voltage at any instance $t$ is given as:\n",
    "$ V(t) = V sin(2 \\pi  ft) $ ; where $V$ is the maximum Voltage Amplitude, $f$ represents Frequency and $t$ represents time.\n",
    "Using OOP concepts, create a method which can return the Voltage at any given frequency.\n",
    "For simplicity, assume $t$ to be 1"
   ]
  },
  {
   "cell_type": "code",
   "execution_count": 1,
   "metadata": {},
   "outputs": [
    {
     "name": "stdout",
     "output_type": "stream",
     "text": [
      "Press Any Key : \n",
      "Enter Maximum Voltage Amplitude: 220\n",
      "Enter Frequency in Hertz: 60\n",
      "Enter Time in Seconds: 1\n",
      "\n",
      "When\n",
      " Maximum Voltage Amplitude Is 220.0\n",
      " Frequency Is 60.0\n",
      " Time Is 1.0\n",
      "The Voltage Is : 220.0\n",
      "Press Any Key To Again Enter Calculate The Values Or Press q To Quit : q\n",
      "Thank You!\n"
     ]
    }
   ],
   "source": [
    "import numpy as np\n",
    "class ACVoltage:\n",
    "    def __init__(self, volt_amp = None, freq = None, time = None):\n",
    "        self.volt_amp = volt_amp\n",
    "        self.freq = freq\n",
    "        self.time = time\n",
    "    def take_inputs(self):\n",
    "        self.volt_amp = float(input(\"Enter Maximum Voltage Amplitude: \"))\n",
    "        self.freq = float(input(\"Enter Frequency in Hertz: \"))\n",
    "        self.time = float(input(\"Enter Time in Seconds: \"))\n",
    "    def ac_voltage(self):\n",
    "        acvoltage = self.volt_amp*(np.sin(np.radians(2 * np.degrees(np.pi) * self.freq * self.time)))\n",
    "        return acvoltage\n",
    "    def Display(self):\n",
    "        print(\"\\nWhen\\n Maximum Voltage Amplitude Is {}\\n Frequency Is {}\\n Time Is {}\".format(self.volt_amp, self.freq, self.time))\n",
    "        print(\"The Voltage Is : {}\".format(self.volt_amp))\n",
    "user = str(input(\"Press Any Key : \"))\n",
    "while(user != 'q'):\n",
    "    v = ACVoltage()\n",
    "    v.take_inputs()\n",
    "    v.ac_voltage()\n",
    "    v.Display()\n",
    "    user = str(input(\"Press Any Key To Again Enter Calculate The Values Or Press q To Quit : \"))\n",
    "print(\"Thank You!\")"
   ]
  },
  {
   "cell_type": "markdown",
   "metadata": {},
   "source": [
    "2- The input voltage frequency in some parts of the world is 60 hertz while 50 Hertz in many other parts of the world. Modify your code from question 1 to calculate power consumption of identical loads at these two different frequencies. Include load resistance as an attribute to your constructed class. Compare the results and report whether the same load will consume more power on 50 Hz or 60 Hz.\n",
    "Assume your load to be purely resistive. Set any value of load."
   ]
  },
  {
   "cell_type": "code",
   "execution_count": 2,
   "metadata": {},
   "outputs": [
    {
     "name": "stdout",
     "output_type": "stream",
     "text": [
      "Press Any Key : \n",
      "Enter Maximum Voltage Amplitude: 220\n",
      "Enter Time in Seconds: 1\n",
      "Enter Load: 2300\n",
      "Enter Usage Of That Device in Hours: 12\n",
      "\n",
      "The Power Consumption When Frequency Is 50 Is 9.74434725378036e-31 kwh\n",
      "\n",
      "The Power Consumption When Frequency Is 60 Is 4.7575510829188815e-29 kwh\n",
      "Press Any Key To Again Enter Calculate The Values Or Press q To Quit : q\n",
      "Thank You!\n"
     ]
    }
   ],
   "source": [
    "import numpy as np\n",
    "class ACVoltage:\n",
    "    def __init__(self, volt_amp = None, time = None, load = None, usage = None):\n",
    "        self.volt_amp = volt_amp\n",
    "        self.time = time\n",
    "        self.load = load\n",
    "        self.usage = usage\n",
    "        self.power_consump1 = None\n",
    "        self.power_consump2 = None\n",
    "    def take_inputs(self):\n",
    "        self.volt_amp = float(input(\"Enter Maximum Voltage Amplitude: \"))\n",
    "        self.time = float(input(\"Enter Time in Seconds: \"))\n",
    "        self.load = float(input(\"Enter Load: \"))\n",
    "        self.usage = float(input(\"Enter Usage Of That Device in Hours: \"))\n",
    "    def ac_value(self):\n",
    "        ac1 = self.volt_amp*(np.sin(np.radians(2 * np.degrees(np.pi) * 50 * self.time)))\n",
    "        ac2 = self.volt_amp*(np.sin(np.radians(2 * np.degrees(np.pi) * 60 * self.time)))\n",
    "        p1 = pow(ac1,2) / self.load\n",
    "        p2 = pow(ac2,2) / self.load\n",
    "        p1w = p1 * self.usage\n",
    "        p2w = p2 * self.usage\n",
    "        self.power_consump1 = p1w / 1000\n",
    "        self.power_consump2 = p2w / 1000\n",
    "    def Display(self):\n",
    "        print(\"\\nThe Power Consumption When Frequency Is {} Is {} kwh\".format(50, self.power_consump1))\n",
    "        print(\"\\nThe Power Consumption When Frequency Is {} Is {} kwh\".format(60, self.power_consump2))\n",
    "user = str(input(\"Press Any Key : \"))\n",
    "while(user != 'q'):\n",
    "    v = ACVoltage()\n",
    "    v.take_inputs()\n",
    "    v.ac_value()\n",
    "    v.Display()\n",
    "    user = str(input(\"Press Any Key To Again Enter Calculate The Values Or Press q To Quit : \"))\n",
    "print(\"Thank You!\")"
   ]
  },
  {
   "cell_type": "markdown",
   "metadata": {},
   "source": [
    "3- Create a class which takes numeric attributes from the user. Create a method that can return the solution of a system of linear equations containing 3 variables. Use necessary tools from Numpy Library.\n",
    "\n",
    "Use the following set of equations to verify your code:\n",
    "\n",
    "$ x + 3y + 5z = 10 $\n",
    "\n",
    "$ 2x + 5y + z = 8 $\n",
    "\n",
    "$ 2x + 3y + 8z = 3$\n",
    "\n",
    "The solution for this system is $(-9.26, 5.16, 0.76)$"
   ]
  },
  {
   "cell_type": "code",
   "execution_count": 3,
   "metadata": {},
   "outputs": [
    {
     "name": "stdout",
     "output_type": "stream",
     "text": [
      "Press Any Key To Continue Or Press q To Quit: \n",
      "\n",
      "Enter Coefficients Of Variables Of Equations  1\n",
      "Enter 1 Coefficient Of Equation 1 :1\n",
      "Enter 2 Coefficient Of Equation 1 :3\n",
      "Enter 3 Coefficient Of Equation 1 :5\n",
      "\n",
      "Enter Coefficients Of Variables Of Equations  2\n",
      "Enter 1 Coefficient Of Equation 2 :2\n",
      "Enter 2 Coefficient Of Equation 2 :5\n",
      "Enter 3 Coefficient Of Equation 2 :1\n",
      "\n",
      "Enter Coefficients Of Variables Of Equations  3\n",
      "Enter 1 Coefficient Of Equation 3 :2\n",
      "Enter 2 Coefficient Of Equation 3 :3\n",
      "Enter 3 Coefficient Of Equation 3 :8\n",
      "Enter Coefficients Of Equations\n",
      "Enter Coefficient Of 1 Equation :10\n",
      "Enter Coefficient Of 2 Equation :8\n",
      "Enter Coefficient Of 3 Equation :3\n",
      "\n",
      "The Given Martix Is :\n",
      "\n",
      "Coefficient Matrix :\n",
      "[[1.0, 3.0, 5.0], [2.0, 5.0, 1.0], [2.0, 3.0, 8.0]]\n",
      "\n",
      "Column Matrix :\n",
      "[10.0, 8.0, 3.0]\n",
      "The Solution Of The Given Matrix Is :  [-9.28  5.16  0.76]\n",
      "Press Any Key To Again Enter Equation Or Press q To Quit: q\n",
      "Thank You!\n"
     ]
    }
   ],
   "source": [
    "import numpy as np\n",
    "class Equation:\n",
    "    def __init__(self, sol = None):\n",
    "        self.Mat = [[],[],[]]\n",
    "        self.Coeff = []\n",
    "        self.sol = None\n",
    "    def Take_inputs(self):\n",
    "        for i in range(0,3):\n",
    "            for j in range(0,3):\n",
    "                self.Mat[i].append(j)\n",
    "                self.Mat[i][j] = 0\n",
    "        for i in range(0,3):\n",
    "            print(\"\\nEnter Coefficients Of Variables Of Equations \", i+1)\n",
    "            for j in range(0,3):\n",
    "                self.Mat[i][j] = float(input(\"Enter {} Coefficient Of Equation {} :\".format(j+1, i+1)))\n",
    "        print(\"Enter Coefficients Of Equations\")\n",
    "        for i in range(0,3):\n",
    "            self.Coeff.append(i)\n",
    "            self.Coeff[i] = 0\n",
    "        for i in range(0, 3):\n",
    "            self.Coeff[i] = float(input(\"Enter Coefficient Of {} Equation :\".format(i+1)))\n",
    "    def Matrix(self):\n",
    "        self.Mat = np.array(self.Mat, dtype = 'float')\n",
    "        self.Coeff = np.array(self.Coeff, dtype = 'float')\n",
    "        return self.Mat, self.Coeff\n",
    "    def Solve(self):\n",
    "        self.sol = np.linalg.solve(self.Mat, self.Coeff)\n",
    "        print(\"\\nThe Given Martix Is :\\n\\nCoefficient Matrix :\\n{}\\n\\nColumn Matrix :\\n{}\".format(self.Mat, self.Coeff))\n",
    "        print(\"The Solution Of The Given Matrix Is : \", self.sol)\n",
    "        \n",
    "\n",
    "press = str(input(\"Press Any Key To Continue Or Press q To Quit: \"))\n",
    "while(press != 'q'):\n",
    "    obj = Equation()\n",
    "    obj.Take_inputs()\n",
    "    obj.Solve()\n",
    "    press = str(input(\"Press Any Key To Again Enter Equation Or Press q To Quit: \"))\n",
    "print(\"Thank You!\")"
   ]
  }
 ],
 "metadata": {
  "kernelspec": {
   "display_name": "Python 3",
   "language": "python",
   "name": "python3"
  },
  "language_info": {
   "codemirror_mode": {
    "name": "ipython",
    "version": 3
   },
   "file_extension": ".py",
   "mimetype": "text/x-python",
   "name": "python",
   "nbconvert_exporter": "python",
   "pygments_lexer": "ipython3",
   "version": "3.7.3"
  }
 },
 "nbformat": 4,
 "nbformat_minor": 2
}
