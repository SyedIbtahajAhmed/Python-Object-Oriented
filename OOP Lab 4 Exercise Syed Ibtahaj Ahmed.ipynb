{
 "cells": [
  {
   "cell_type": "markdown",
   "metadata": {},
   "source": [
    "## Object Oriented Programming Lab - 4\n",
    "\n",
    "### Special Methods and Decorators\n",
    "\n",
    "### Student Name:SYED IBTAHAJ AHMED RIZVI\n",
    "### Student Id:FA18-BECE-0016\n",
    "\n",
    "### Objective\n",
    "To understand the use of Special Methods and Decorators for Classes in Python\n",
    "\n",
    "### Exercise"
   ]
  },
  {
   "cell_type": "markdown",
   "metadata": {},
   "source": [
    "1- Create a Cars Class with attributes such as name, cost and model. Add methods to add sound for each vehicle. \n",
    "Use special methods for this class that can add the cost of any two objects created for this class.\n",
    "Add a special method that compares the mileage of any of the two objects. Create at least three instaces and verify your results. \n"
   ]
  },
  {
   "cell_type": "code",
   "execution_count": null,
   "metadata": {},
   "outputs": [],
   "source": [
    "class Cars:\n",
    "    def __init__(self, name = None, cost = None, model = None, mileage = None):\n",
    "        self.name = name\n",
    "        self.cost = cost\n",
    "        self.model = model\n",
    "        self.mileage = mileage\n",
    "    def sound(self):\n",
    "        raise NotImplementedError(\"sound() Method Should Be Defined In Subclass!\")\n",
    "    def __lt__(self, other):\n",
    "        if (self.mileage < other.mileage):\n",
    "            return self.mileage, self.name\n",
    "        else:\n",
    "            return other.mileage, other.name\n",
    "    \n",
    "class Civic(Cars):\n",
    "    def __init__(self, name = None, cost = None, model = None, mileage = None):\n",
    "        Cars.__init__(self, name, cost, model, mileage)\n",
    "    def sound(self):\n",
    "        return \"WROOOOM WROOOMM WROOOM!\"\n",
    "    def __add__(self,other):\n",
    "        return self.cost + other.cost\n",
    "    \n",
    "class Brv(Cars):\n",
    "    def __init__(self, name = None, cost = None, model = None, mileage = None):\n",
    "        Cars.__init__(self, name, cost, model, mileage)\n",
    "        self.mileage = mileage\n",
    "    def sound(self):\n",
    "        return \"BOOOM BOOOM BOOOOM BOOOOM!\"\n",
    "    def __add__(self,other):\n",
    "        return self.cost + other.cost\n",
    "    \n",
    "class Hrv(Cars):\n",
    "    def __init__(self, name = None, cost = None, model = None, mileage = None):\n",
    "        Cars.__init__(self, name, cost, model, mileage)\n",
    "        self.mileage = mileage\n",
    "    def sound(self):\n",
    "        return \"ZOOOOM ZOOOOM ZOOOOOM ZOOOOM!\"\n",
    "    def __add__(self,other):\n",
    "        return self.cost + other.cost\n",
    "    \n",
    "        \n",
    "def Sound(obj):\n",
    "    return obj.sound()\n",
    "\n",
    "honda = [Civic(\"Civic\", 2000000, 2019, 45),\n",
    "Brv(\"BRV\", 5500000, 2020, 60),\n",
    "Hrv(\"HRV\", 4500000, 2020, 35)]\n",
    "for i in honda:\n",
    "    print(\"The Sound Of {} Is : {}\".format(i.name, Sound(i)))\n",
    "print(\"The Total Cost Of {} and {} Is : {}\".format(honda[0].name, honda[1].name, honda[0]+honda[1]))\n",
    "print(\"The Total Cost Of {} and {} Is : {}\".format(honda[1].name, honda[1].name, honda[1]+honda[2]))\n",
    "\n",
    "print(\"Lower Mileage Between {} and {} Is : {}\".format(honda[0].name, honda[1].name, honda[0] < honda[1]))\n",
    "print(\"Lower Mileage Between {} and {} Is : {}\".format(honda[1].name, honda[2].name, honda[1] < honda[2]))"
   ]
  },
  {
   "cell_type": "markdown",
   "metadata": {},
   "source": [
    "2- Create a Vocabulary Class that has two attributes i.e the language name and the word having the meaning of 'sport'. \n",
    "For example, an object for this class would look like this: \n",
    "\n",
    "Word1 = Vocabulary('Urdu','Khel')\n",
    "\n",
    "Create a special method that can compare the lengths of the of the second attributes. This special method should return the object with the longest string.\n",
    "\n",
    "Create at least three instances."
   ]
  },
  {
   "cell_type": "code",
   "execution_count": null,
   "metadata": {},
   "outputs": [],
   "source": [
    "class Vocabulary:\n",
    "    def __init__(self, lang = None, mean = None):\n",
    "        self.lang = lang\n",
    "        self.mean = mean\n",
    "    def __gt__(self, other):\n",
    "        if(len(self.mean) > len(other.mean)):\n",
    "            return self.mean, self.lang\n",
    "        else:\n",
    "            return other.mean, other.lang\n",
    "word1 = Vocabulary(\"Urdu\", \"Khel\")\n",
    "word2 = Vocabulary(\"Spanish\", \"deporte\")\n",
    "word3 = Vocabulary(\"Russian\", \"vidy sporta\")\n",
    "print(\"\\nThe Longest Meaning Of Sports Between {} And {} Is : {}\".format(word1.lang, word2.lang, word1 < word2))\n",
    "print(\"\\nThe Longest Meaning Of Sports Between {} And {} Is : {}\".format(word2.lang, word3.lang, word2 < word3))\n",
    "print(\"\\nThe Longest Meaning Of Sports Between {} And {} Is : {}\".format(word1.lang, word3.lang, word1 < word3))"
   ]
  },
  {
   "cell_type": "markdown",
   "metadata": {},
   "source": [
    "3-  You have been asked to prepare the inventory for a lab The lab has three types of equipment: Power Supply, Oscilloscope and Function Generator. \n",
    "Create a generic class with a special method that can calculate the total power cost if a unit of power cost Rs. 15.43. Create at least 5 instances having any of the above mentioned equipment. Provide consumption hours as attributes. "
   ]
  },
  {
   "cell_type": "code",
   "execution_count": null,
   "metadata": {},
   "outputs": [],
   "source": [
    "class Equipments:\n",
    "    def __init__(self, power = None, hours = None, tot_pow = None):\n",
    "        self.power = power\n",
    "        self.hours = hours\n",
    "        self.tot_pow = tot_pow\n",
    "    def __add__(self,other):\n",
    "        return self.tot_pow + other.tot_pow\n",
    "class PowerSupply(Equipments):\n",
    "    def __init__(self, power = None, hours = None, tot_pow = None):\n",
    "        Equipments.__init__(self, power, hours, tot_pow)\n",
    "    def calc_power(self):\n",
    "        self.tot_pow = self.power * self.hours * 15.43\n",
    "        return self.tot_pow\n",
    "class Oscilloscope(Equipments):\n",
    "    def __init__(self, power = None, hours = None, tot_pow = None):\n",
    "        Equipments.__init__(self, power, hours, tot_pow)\n",
    "    def calc_power(self):\n",
    "        self.tot_pow = self.power * self.hours * 15.43\n",
    "        return self.tot_pow\n",
    "class Func_Generator(Equipments):\n",
    "    def __init__(self, power = None, hours = None, tot_pow = None):\n",
    "        Equipments.__init__(self, power, hours, tot_pow)\n",
    "    def calc_power(self):\n",
    "        self.tot_pow = self.power * self.hours * 15.43\n",
    "        return self.tot_pow\n",
    "\n",
    "obj1 = PowerSupply(20, 4)\n",
    "print(\"\\nThe Power Cost Of PowerSupply Is: {}\".format(obj1.calc_power()))\n",
    "obj2 = Oscilloscope(30, 6)\n",
    "print(\"\\nThe Power Cost Of Oscilloscope Is: {}\".format(obj2.calc_power()))\n",
    "obj3 = Func_Generator(50, 3)\n",
    "print(\"\\nThe Power Cost Of Funcion Generator Is: {}\".format(obj3.calc_power()))\n",
    "\n",
    "print(\"\\nThe Total Power Cost Of {} and {} Is : {}\".format(\"PowerSupply\", \"Oscilloscope\", obj1 + obj2))\n",
    "print(\"\\nThe Total Power Cost Of {} and {} Is : {}\".format(\"Oscilloscope\", \"Function Generator\", obj2 + obj3))"
   ]
  },
  {
   "cell_type": "code",
   "execution_count": null,
   "metadata": {},
   "outputs": [],
   "source": []
  }
 ],
 "metadata": {
  "kernelspec": {
   "display_name": "Python 3",
   "language": "python",
   "name": "python3"
  },
  "language_info": {
   "codemirror_mode": {
    "name": "ipython",
    "version": 3
   },
   "file_extension": ".py",
   "mimetype": "text/x-python",
   "name": "python",
   "nbconvert_exporter": "python",
   "pygments_lexer": "ipython3",
   "version": "3.7.3"
  }
 },
 "nbformat": 4,
 "nbformat_minor": 2
}
