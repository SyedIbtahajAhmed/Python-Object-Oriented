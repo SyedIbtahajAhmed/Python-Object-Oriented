{
 "cells": [
  {
   "cell_type": "markdown",
   "metadata": {},
   "source": [
    "## Object Oriented Programming Lab - 2\n",
    "\n",
    "### Classes and Objects\n",
    "\n",
    "### Student Name:Syed Ibtahaj Ahmed Rzvi\n",
    "\n",
    "### Student Id:FA18-BECE-0016\n",
    "\n",
    "### Objective\n",
    "To learn the use of Classes and Objects in Object Oriented Programming\n",
    "\n",
    "\n",
    "### Exercise"
   ]
  },
  {
   "cell_type": "markdown",
   "metadata": {},
   "source": [
    "1 - Create a Class with the name ‘Student’. Class Attributes should be student name, age, gender and roll number. Create two instances from this class. Display the names and ages of the students"
   ]
  },
  {
   "cell_type": "code",
   "execution_count": null,
   "metadata": {},
   "outputs": [],
   "source": [
    "class Student:\n",
    "    def __init__(self, name, age, gender = None, roll_no = None):\n",
    "        self.name = name; self.age = age; self.gender = gender; self.roll_no = roll_no;\n",
    "    def display(self):\n",
    "        print(\"The Name Of The Student Is : {} and Age Is : {}\".format(self.name, self.age))\n",
    "\n",
    "std_1 = Student(\"Syed Ibtahaj\", 19)\n",
    "std_2 = Student(\"Abdul Wasey\", 20)\n",
    "\n",
    "std_1.display()\n",
    "std_2.display()"
   ]
  },
  {
   "cell_type": "markdown",
   "metadata": {},
   "source": [
    "2 - Create a method to display the name and age of the students."
   ]
  },
  {
   "cell_type": "code",
   "execution_count": null,
   "metadata": {},
   "outputs": [],
   "source": [
    "class Student:\n",
    "    def __init__(self, name, age, gender = None, roll_no = None):\n",
    "        self.name = name; self.age = age; self.gender = gender; self.roll_no = roll_no;\n",
    "    def display(self):\n",
    "        print(\"The Name Of The Student Is : {} and Age Is : {}\".format(self.name, self.age))\n",
    "\n",
    "std_1 = Student(\"Syed Ibtahaj\", 19)\n",
    "std_2 = Student(\"Abdul Wasey\", 20)\n",
    "\n",
    "std_1.display()\n",
    "std_2.display()"
   ]
  },
  {
   "cell_type": "markdown",
   "metadata": {},
   "source": [
    "3 - In the class that you create in Question 1, add methods to the class which indicate student behavior such as Obedience, Attentiveness and Neatness."
   ]
  },
  {
   "cell_type": "code",
   "execution_count": null,
   "metadata": {},
   "outputs": [],
   "source": [
    "class Student:\n",
    "    def __init__(self, name, age, gender = None, roll_no = None):\n",
    "        self.name = name; self.age = age; self.gender = gender; self.roll_no = roll_no;\n",
    "    def display(self):\n",
    "        print(\"The Name Of The Student Is : {} and Age Is : {}\\n\".format(self.name, self.age))\n",
    "    def behavior(self):\n",
    "        if(self.age < 20):\n",
    "            print(\"{} is Obedient, Very Attentive, and does work neat and clean\\n\".format(self.name))\n",
    "        elif(self.age >= 20):\n",
    "            print(\"{} is Obedient, Very Attentive, and does not work neat and clean\\n\".format(self.name))\n",
    "\n",
    "std_1 = Student(\"Syed Ibtahaj\", 19)\n",
    "std_2 = Student(\"Abdul Wasey\", 20)\n",
    "\n",
    "std_1.display()\n",
    "std_1.behavior()\n",
    "std_2.display()\n",
    "std_2.behavior()"
   ]
  },
  {
   "cell_type": "markdown",
   "metadata": {},
   "source": [
    "4 - Create a Class which contains a method. The method should take two numbers as input and output both greater and smaller values with labels."
   ]
  },
  {
   "cell_type": "code",
   "execution_count": null,
   "metadata": {},
   "outputs": [],
   "source": [
    "class Add:\n",
    "    def __init__(self):\n",
    "        self.num1 = None\n",
    "        self.num2 = None\n",
    "        \n",
    "    def take_input(self):\n",
    "        self.num1 = int(input(\"Please Enter First Number: \"))\n",
    "        self.num2 = int(input(\"Please Enter First Number: \"))\n",
    "    \n",
    "    def decision(self):\n",
    "        if(self.num1 > self.num2):\n",
    "            print(\"{} Is Greater Than {} \".format(self.num1, self.num2))\n",
    "        elif(self.num1 < self.num2):\n",
    "            print(\"{} Is Smaller Than {} \".format(self.num1, self.num2))\n",
    "        else:\n",
    "            print(\"{} Is Equal To {} \".format(self.num1, self.num2))\n",
    "\n",
    "first_opr = Add()\n",
    "first_opr.take_input()\n",
    "first_opr.decision()"
   ]
  },
  {
   "cell_type": "markdown",
   "metadata": {},
   "source": [
    "5 - Define a ‘LedLights’ class with attributes ‘Voltage Rating’, ‘Power Consumption’ and ‘Durability’. Create at least three instances for this class. Assume Voltage in Volts, Power in Watts and Durability in Days"
   ]
  },
  {
   "cell_type": "code",
   "execution_count": null,
   "metadata": {},
   "outputs": [],
   "source": [
    "class LedLights:\n",
    "    def __init__(self, voltage_rating, power_consumption, durability):\n",
    "        self.voltage_rating = voltage_rating\n",
    "        self.power_consumption = power_consumption\n",
    "        self.durability = durability\n",
    "    def display(self):\n",
    "        print(\"The Voltage Rating : {}\".format(self.voltage_rating))\n",
    "        print(\"The Power Consumption : {}\".format(self.power_consumption))\n",
    "        print(\"The Durability : {}\\n\\n\".format(self.durability))\n",
    "        \n",
    "        \n",
    "obj1 = LedLights(12, 32, 10)\n",
    "obj2 = LedLights(15, 40, 20)\n",
    "obj3 = LedLights(9, 50, 7)\n",
    "print(\"Object 1\")\n",
    "obj1.display()\n",
    "print(\"Object 2\")\n",
    "obj2.display()\n",
    "print(\"Object 3\")\n",
    "obj3.display()"
   ]
  },
  {
   "cell_type": "markdown",
   "metadata": {},
   "source": [
    "6 - Propose a method which returns the instance with the lowest power consumption."
   ]
  },
  {
   "cell_type": "code",
   "execution_count": null,
   "metadata": {},
   "outputs": [],
   "source": [
    "###Using OOP\n",
    "class LedLights:\n",
    "    def __init__(self, voltage_rating, power_consumption, durability):\n",
    "        self.voltage_rating = voltage_rating\n",
    "        self.power_consumption = power_consumption\n",
    "        self.durability = durability\n",
    "    def display(self):\n",
    "        print(\"The Voltage Rating : {}\".format(self.voltage_rating))\n",
    "        print(\"The Power Consumption : {}\".format(self.power_consumption))\n",
    "        print(\"The Durability : {}\".format(self.durability))\n",
    "        \n",
    "#For Lowest Power Consumption\n",
    "class Power_Consump_Obj:\n",
    "    def __init__(self):\n",
    "        self.power_consump = []\n",
    "        self.power = []\n",
    "    def read_list(self, power):\n",
    "        for i in range(0, len(self.power)):\n",
    "            self.power_consump[i] = self.power[i]\n",
    "        \n",
    "    def lowest(self):\n",
    "        self.power_consump.sort()\n",
    "        print(\"The Lowest Power Consumption Is \",self.power_consump[0])\n",
    "\n",
    "#Creating Instances\n",
    "obj1 = LedLights(12, 32, 10)\n",
    "obj2 = LedLights(15, 40, 20)\n",
    "obj3 = LedLights(9, 50, 7)\n",
    "\n",
    "#Making List Of Power Consumptions Of The Objects\n",
    "power_list = [obj1.power_consumption, obj2.power_consumption, obj3.power_consumption]\n",
    "#Calling Methods\n",
    "power = Power_Consump_Obj()\n",
    "power.read_list(power_list)\n",
    "power.lowest()"
   ]
  },
  {
   "cell_type": "code",
   "execution_count": null,
   "metadata": {},
   "outputs": [],
   "source": [
    "###Using Procedural Programming\n",
    "###Using OOP\n",
    "class LedLights:\n",
    "    def __init__(self, voltage_rating, power_consumption, durability):\n",
    "        self.voltage_rating = voltage_rating\n",
    "        self.power_consumption = power_consumption\n",
    "        self.durability = durability\n",
    "    def display(self):\n",
    "        print(\"The Voltage Rating : {}\".format(self.voltage_rating))\n",
    "        print(\"The Power Consumption : {}\".format(self.power_consumption))\n",
    "        print(\"The Durability : {}\".format(self.durability))\n",
    "        \n",
    "#Creating Instances\n",
    "obj1 = LedLights(12, 32, 10)\n",
    "obj2 = LedLights(15, 40, 20)\n",
    "obj3 = LedLights(9, 50, 7)\n",
    "\n",
    "#For Lowest Power Consumption\n",
    "power = [obj1.power_consumption, obj2.power_consumption, obj3.power_consumption]\n",
    "#Sorting List\n",
    "power.sort()\n",
    "print(\"The Lowest Power Consumption Is : {}\".format(power[0]))"
   ]
  }
 ],
 "metadata": {
  "kernelspec": {
   "display_name": "Python 3",
   "language": "python",
   "name": "python3"
  },
  "language_info": {
   "codemirror_mode": {
    "name": "ipython",
    "version": 3
   },
   "file_extension": ".py",
   "mimetype": "text/x-python",
   "name": "python",
   "nbconvert_exporter": "python",
   "pygments_lexer": "ipython3",
   "version": "3.7.3"
  }
 },
 "nbformat": 4,
 "nbformat_minor": 2
}
