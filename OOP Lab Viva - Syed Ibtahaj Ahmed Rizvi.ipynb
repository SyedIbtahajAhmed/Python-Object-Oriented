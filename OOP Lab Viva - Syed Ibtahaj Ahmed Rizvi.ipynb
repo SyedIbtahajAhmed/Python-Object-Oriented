{
 "cells": [
  {
   "cell_type": "markdown",
   "metadata": {},
   "source": [
    "# OBJECT ORIENTED PROGRAMMING ( VIVA )\n",
    "## Student Name: Syed Ibtahaj Ahmed Rizvi\n",
    "## Student Id       : FA18 - BECE - 0016"
   ]
  },
  {
   "cell_type": "markdown",
   "metadata": {},
   "source": [
    "# OOP LAB 3 ( VIVA ) (Inheritance)"
   ]
  },
  {
   "cell_type": "markdown",
   "metadata": {},
   "source": [
    "### Description:"
   ]
  },
  {
   "cell_type": "markdown",
   "metadata": {},
   "source": [
    "In programming Inheritance is a concept in which we make multiple clsses and we make classes to access fields and methods of other classes by inherting with other classes. There are parent classes which are being inherited by the child classes or subclasses."
   ]
  },
  {
   "cell_type": "markdown",
   "metadata": {},
   "source": [
    "### Example:"
   ]
  },
  {
   "cell_type": "code",
   "execution_count": null,
   "metadata": {
    "collapsed": true
   },
   "outputs": [],
   "source": [
    "#This is the parent class\n",
    "class University:\n",
    "    def __init__(self, name = None, email_id = None):\n",
    "        self.name = name\n",
    "        self.email_id = email_id\n",
    "    def display(self):\n",
    "        print(\"The Name Is: {}\".format(self.name))\n",
    "        print(\"The Email Is: {}\".format(self.email_id))\n",
    "\n",
    "#This Is The Child Class\n",
    "class Student(University):\n",
    "    def __init__(self, name = None, email_id = None, dep = None):\n",
    "        University.__init__(self, name, email_id)\n",
    "        self.dep = dep\n",
    "    \n",
    "    def dis_std(self):\n",
    "        self.display()\n",
    "        print(\"The Department Is {}\".format(self.dep))\n",
    "std_1 = Student()\n",
    "std_1.name = \"Ibtahaj\"\n",
    "std_1.email = \"syd.ibthaj@gmail.com\"\n",
    "std_1.dep = \"CSE\"\n",
    "std_1.dis_std()"
   ]
  },
  {
   "cell_type": "markdown",
   "metadata": {},
   "source": [
    "# OOP LAB 4 ( VIVA ) ( Polymorphism )"
   ]
  },
  {
   "cell_type": "markdown",
   "metadata": {},
   "source": [
    "### Descrioption (Polymorphism):\n",
    "The basic concept of polymorphism is to use the same method in different classes by changing it's structure or it's body. When we only change the method's body, it is called OverRiding. And when we change the structure of the same method then it is called OverLoading. There are two types of polymorphism Compiletime Polymorphism and Runtime Polymorphism."
   ]
  },
  {
   "cell_type": "markdown",
   "metadata": {},
   "source": [
    "### Example:"
   ]
  },
  {
   "cell_type": "code",
   "execution_count": null,
   "metadata": {
    "collapsed": true
   },
   "outputs": [],
   "source": [
    "#Parent Class\n",
    "class Math:\n",
    "    def __init__(self, end = None):\n",
    "        self.end = end\n",
    "    def my_Range(self):\n",
    "        for j in range(0,1):\n",
    "            for i in range(0, self.end):\n",
    "                print(i, end=\" \")\n",
    "            print(end=\"\")\n",
    "#child Class\n",
    "class Adv_Math(Math):\n",
    "    def __init__(self, start = None, end = None):\n",
    "        Math.__init__(self, end)\n",
    "        self.start = start\n",
    "    def my_Range(self, start):\n",
    "        for j in range(0,1):\n",
    "            for i in range(start, self.end):\n",
    "                print(i, end=\" \")\n",
    "            print(\"\\n\")\n",
    "count_1 = Adv_Math()\n",
    "count_1.end = 20\n",
    "count_2 = Math()\n",
    "count_2.end = 30\n",
    "count_1.my_Range(10)\n",
    "count_2.my_Range()"
   ]
  },
  {
   "cell_type": "markdown",
   "metadata": {},
   "source": [
    "# OOP LAB 5 ( VIVA ) (Special Methods And Decorators)"
   ]
  },
  {
   "cell_type": "markdown",
   "metadata": {},
   "source": [
    "### Description:\n",
    "There are Special Methods and Decorators that are predefined and we can change and alter those methods to fulfill our needs according to our codes. Like there is a predefined method for greater than, less than, and many more but if we want to use them accodring to our need. We can do that as well."
   ]
  },
  {
   "cell_type": "markdown",
   "metadata": {},
   "source": [
    "### Example:"
   ]
  },
  {
   "cell_type": "code",
   "execution_count": null,
   "metadata": {
    "collapsed": true
   },
   "outputs": [],
   "source": [
    "class Len_String:\n",
    "    def __init__(self, my_string = None):\n",
    "        self.my_string = my_string\n",
    "    def __lt__(self, other):\n",
    "        if(len(self.my_string) < len(other.my_string)):\n",
    "            return \"'{}' String Is Less Than '{}' String\".format(self.my_string, other.my_string)\n",
    "        else:\n",
    "            return \"'{}' String Is Greater Than '{}' String\".format(self.my_string, other.my_string)\n",
    "            \n",
    "obj = Len_String(\"Ibtahaj\")\n",
    "obj2 = Len_String(\"Syed\")\n",
    "print(obj < obj2)"
   ]
  },
  {
   "cell_type": "markdown",
   "metadata": {},
   "source": [
    "# OOP LAB 6 ( VIVA ) ( Exception Handling )"
   ]
  },
  {
   "cell_type": "markdown",
   "metadata": {},
   "source": [
    "### Description (Exception Handling):\n",
    "Exception handling means error handling. We use exception handling to make the flow of the program efficient and raise errors where there is a problem in the program flow. We use TRY block to make the program and there is a except block where we raise errors with respect to the problem."
   ]
  },
  {
   "cell_type": "code",
   "execution_count": null,
   "metadata": {
    "collapsed": false
   },
   "outputs": [],
   "source": [
    "class LenName(Exception):\n",
    "    pass\n",
    "class String_Len:\n",
    "    def __init__(self, my_str = None):\n",
    "        self.my_str = my_str\n",
    "    def Len_str(self):\n",
    "        while True:\n",
    "            try: \n",
    "                if(type(self.my_str) == str):\n",
    "                    print(\"The Length Of The Given String {} Is = {}\".format(self.my_str, len(self.my_str)))\n",
    "                    break\n",
    "                else:\n",
    "                    raise LenName\n",
    "            except(LenName):\n",
    "                print(\"The Input You Entered Was Not A String!\")\n",
    "                break\n",
    "            finally:\n",
    "                print(\"Thanks For Using!\")\n",
    "                break\n",
    "str_1 = String_Len(\"Syed Ibtahaj\")\n",
    "str_1.Len_str()\n",
    "str_2 = String_Len(12)\n",
    "str_2.Len_str()"
   ]
  },
  {
   "cell_type": "markdown",
   "metadata": {},
   "source": [
    "# OOP LAB 7 ( VIVA ) (Composition)"
   ]
  },
  {
   "cell_type": "markdown",
   "metadata": {},
   "source": [
    "### Description:\n",
    "Composition is a has a relationship. It is a very strong relationship. Like if we have a car and the car has an engine then there is a composition relation between the car and the engine. And engine would be of no use if there would be no car."
   ]
  },
  {
   "cell_type": "markdown",
   "metadata": {},
   "source": [
    "### Example:"
   ]
  },
  {
   "cell_type": "code",
   "execution_count": null,
   "metadata": {
    "collapsed": false
   },
   "outputs": [],
   "source": [
    "class Engine:\n",
    "    def __init__(self, engine_cap = None):\n",
    "        self.engine_cap = engine_cap\n",
    "    def Eng_cap(self):\n",
    "        return self.engine_cap\n",
    "class Toyota:\n",
    "    def __init__(self, name = None, seats = None, engine_cap = None):\n",
    "        self.seats = seats\n",
    "        self.name = name\n",
    "        self.engine_capacity = Engine(engine_cap)\n",
    "    def Display(self):\n",
    "        print(\"The Name Of The Car Is : {}\".format(self.name))\n",
    "        print(\"The Car Has {} Seats\".format(self.seats))\n",
    "        print(\"The Engine Capacity Of The Car Is: {} CC\".format(self.engine_capacity.Eng_cap()))\n",
    "\n",
    "car_1 = Toyota(\"Civic\", 4, \"1800\")\n",
    "car_1.Display()"
   ]
  },
  {
   "cell_type": "markdown",
   "metadata": {},
   "source": [
    "# OOP LAB 8 ( VIVA ) ( Introduction To Numpy )"
   ]
  },
  {
   "cell_type": "markdown",
   "metadata": {},
   "source": [
    "### Description:\n",
    "Numpy is a predefind library of python which we can use to do mathematical calculations for the programs that we write. There are several methods and funcions that are very useful for programmers to write the code faster. And they also do not have to write all the codes again in their codes for the calculations."
   ]
  },
  {
   "cell_type": "markdown",
   "metadata": {},
   "source": [
    "### Example:"
   ]
  },
  {
   "cell_type": "code",
   "execution_count": null,
   "metadata": {
    "collapsed": false
   },
   "outputs": [],
   "source": [
    "import numpy as np\n",
    "class Rank:\n",
    "    def __init__(self, mat1 = None, mat2 = None):\n",
    "        self.mat1 = mat1\n",
    "        self.mat2 = mat2\n",
    "    def rank_cal(self):\n",
    "        self.mat1 = np.array(self.mat1)\n",
    "        self.mat2 = np.array(self.mat2)\n",
    "        added = np.array(self.mat1 + self.mat2)\n",
    "        return \"First Matrix:\\n{}\\nSecond Matrix:\\n{}\\nThe Added Result Is:\\n{}\".format(self.mat1, self.mat2, added)\n",
    "\n",
    "my_arr = [[2, 3, 4],[4, 5, 6],[6, 7, 8]]\n",
    "my_arr2 = [[2, 3, 4],[4, 5, 6],[6, 7, 8]]\n",
    "arr_1 = Rank(my_arr, my_arr2)\n",
    "print(arr_1.rank_cal())"
   ]
  },
  {
   "cell_type": "markdown",
   "metadata": {},
   "source": [
    "# OOP LAB 9 ( VIVA ) ( Basic Functional Programming )"
   ]
  },
  {
   "cell_type": "markdown",
   "metadata": {},
   "source": [
    "### Description:\n",
    "In Functional Programming we create use three different things Lambda Functions, Maps, and Filters To Make our codes smaller and readable. And These Functions are used because they are easy to use like a variable and can be defined where ever we want to make a function because syntax is small and compact."
   ]
  },
  {
   "cell_type": "markdown",
   "metadata": {},
   "source": [
    "### Example:"
   ]
  },
  {
   "cell_type": "code",
   "execution_count": null,
   "metadata": {
    "collapsed": false
   },
   "outputs": [],
   "source": [
    "#Identifying Each Element's Data Type\n",
    "data_type = lambda my_data: \"A String\" if type(my_data) == str else (\"An Integer\" if type(my_data) == int else \"A Float\")\n",
    "my_tup = [\"ibtahaj\", 123, 190.23, \"syed\"]\n",
    "result = list(map(data_type, my_tup))\n",
    "print(\"\\nThe Data Types Of Each Element In Form Of List: \\n{}\".format(result))\n",
    "only_str = list(filter(lambda n: n if type(n) == str else None, my_tup))\n",
    "print(\"\\nThe String Only list Is: \\n{}\".format(only_str))"
   ]
  },
  {
   "cell_type": "markdown",
   "metadata": {},
   "source": [
    "# OOP LAB 10 ( VIVA ) ( Python Standard Libraries )"
   ]
  },
  {
   "cell_type": "markdown",
   "metadata": {},
   "source": [
    "### Description:\n",
    "Python Standard Libraries are made to do the work efficiently that we do again and again without writing the program again. So we use predefined codes in our program by importing them from a standard library and do our job."
   ]
  },
  {
   "cell_type": "markdown",
   "metadata": {},
   "source": [
    "### Example:"
   ]
  },
  {
   "cell_type": "code",
   "execution_count": null,
   "metadata": {
    "collapsed": false
   },
   "outputs": [],
   "source": [
    "import collections as col\n",
    "my_str = \"Syed Ibtahaj Ahmed Rizvi\"\n",
    "#Converting Into Deque\n",
    "my_deq = col.deque(my_str)\n",
    "print(\"The Input String\\n{}\\n\\nAfter Converting String Into Deque, Becomes\\n{}\".format(my_str, my_deq))\n",
    "\n",
    "#Capitalizing String\n",
    "print(\"\\nThe Capital Case String\\n{}\".format(my_str.upper()))\n",
    "\n",
    "#Lowering String\n",
    "print(\"\\nThe Lower Case String\\n{}\".format(my_str.lower()))\n",
    "\n",
    "#Removing Spaces From The Deque\n",
    "for i in list(my_deq):\n",
    "    if i == \" \":\n",
    "        my_deq.remove(i)\n",
    "print(\"\\nAfter Removing Spaces From the Deque, Deque Becomes: \\n{}\".format(my_deq))\n",
    "\n",
    "#Converting Deque Into String Again\n",
    "output_str = \"\"\n",
    "for i in range(0, len(my_deq)):\n",
    "    output_str += str(my_deq[i])\n",
    "print(\"\\nAfter Converting Deque Into String:\\n{}\".format(output_str))"
   ]
  }
 ],
 "metadata": {
  "kernelspec": {
   "display_name": "Python 3",
   "language": "python",
   "name": "python3"
  },
  "language_info": {
   "codemirror_mode": {
    "name": "ipython",
    "version": 3
   },
   "file_extension": ".py",
   "mimetype": "text/x-python",
   "name": "python",
   "nbconvert_exporter": "python",
   "pygments_lexer": "ipython3",
   "version": "3.6.0"
  }
 },
 "nbformat": 4,
 "nbformat_minor": 2
}
