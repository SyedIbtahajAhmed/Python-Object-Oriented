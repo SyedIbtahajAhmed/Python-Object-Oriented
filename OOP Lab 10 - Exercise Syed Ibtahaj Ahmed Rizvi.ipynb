{
 "cells": [
  {
   "cell_type": "markdown",
   "metadata": {},
   "source": [
    "### OOP Lab 8 - Exercise\n",
    "### Python Standard Libraries\n",
    "\n",
    "#### Student Name: SYED IBTAHAJ AHMED RIZVI\n",
    "\n",
    "#### Student ID.: FA18 - BECE - 0016\n",
    "\n",
    "\n",
    "#### Object:\n",
    "To learn the use of Python Standard Libraries and documentation for creating efficient programs in Python.\n",
    "\n",
    "#### Exercise:\n"
   ]
  },
  {
   "cell_type": "markdown",
   "metadata": {},
   "source": [
    "Question 1 -The following sequence presents random strings. Manipulate these string values using the 'deque Objects'.\n",
    "\n",
    "'The quick brown fox jumped too high'\n",
    "\n",
    "* Shuffle the Deque and push all the blank spaces to the right end of the deque\n"
   ]
  },
  {
   "cell_type": "code",
   "execution_count": null,
   "metadata": {
    "collapsed": false
   },
   "outputs": [],
   "source": [
    "import collections\n",
    "import random\n",
    "de = collections.deque(\"The quick brown fox jumped too high\")\n",
    "shuffled_str = \"\"\n",
    "input_str = \"\"\n",
    "num = len(de)\n",
    "print(\"The Input List Is: {}\".format(input_str))\n",
    "for i in range(0, num):\n",
    "    input_str = input_str + str(de[i])\n",
    "print(input_str)\n",
    "random.shuffle(de)\n",
    "print(\"\\nThe Shuffled String Is: {}\".format(shuffled_str))\n",
    "for i in range(0, num):\n",
    "    shuffled_str = shuffled_str + str(de[i])\n",
    "print(shuffled_str)\n",
    "#Sorting\n",
    "output_de = collections.deque([])\n",
    "output_str = \"\"\n",
    "for i in shuffled_str:\n",
    "    if i == \" \":\n",
    "        output_de.append(i)\n",
    "    else:\n",
    "        output_de.appendleft(i)\n",
    "for i in range(0, num):\n",
    "    output_str = output_str + str(output_de[i])\n",
    "print(\"\\nThe String With Spaces At the Right End Is:\")\n",
    "print(output_str)\n",
    "print(\"\\nThe String With Spaces Removed And Only Characters In The Same Order:\")\n",
    "rev_str = output_str[::-1]\n",
    "rev_de = collections.deque(rev_str)\n",
    "rev_output_str = \"\"\n",
    "for i in list(rev_de):\n",
    "    if i == \" \":\n",
    "        rev_de.remove(i)\n",
    "for i in range(0, len(rev_de)):\n",
    "    rev_output_str = rev_output_str + str(rev_de[i])\n",
    "print(rev_output_str)"
   ]
  },
  {
   "cell_type": "markdown",
   "metadata": {},
   "source": [
    "* Print each letter in caps\n"
   ]
  },
  {
   "cell_type": "code",
   "execution_count": null,
   "metadata": {
    "collapsed": false
   },
   "outputs": [],
   "source": [
    "import collections\n",
    "import random\n",
    "de = collections.deque(\"The quick brown fox jumped too high\")\n",
    "shuffled_str = \"\"\n",
    "input_str = \"\"\n",
    "num = len(de)\n",
    "print(\"The Input List Is: {}\".format(input_str))\n",
    "for i in range(0, num):\n",
    "    input_str = input_str + str(de[i])\n",
    "print(input_str)\n",
    "random.shuffle(de)\n",
    "print(\"\\nThe Shuffled String Is: {}\".format(shuffled_str))\n",
    "for i in range(0, num):\n",
    "    shuffled_str = shuffled_str + str(de[i])\n",
    "print(shuffled_str)\n",
    "#Sorting\n",
    "output_de = collections.deque([])\n",
    "output_str = \"\"\n",
    "for i in shuffled_str:\n",
    "    if i == \" \":\n",
    "        output_de.append(i)\n",
    "    else:\n",
    "        output_de.appendleft(i)\n",
    "print(\"\\nThe Output String Is:\")\n",
    "for i in range(0, num):\n",
    "    output_str = output_str + str(output_de[i])\n",
    "print(output_str)\n",
    "cap = output_str.upper()\n",
    "print(\"\\nThe Capitalized Shuffled String Is: \\n{}\".format(cap))"
   ]
  },
  {
   "cell_type": "markdown",
   "metadata": {},
   "source": [
    "\n",
    "* Give a name to the fox and add it to the start of the deque.\n"
   ]
  },
  {
   "cell_type": "code",
   "execution_count": null,
   "metadata": {
    "collapsed": false
   },
   "outputs": [],
   "source": [
    "import collections\n",
    "deq = collections.deque(\", The quick brown fox jumped too high\")\n",
    "name = str(input(\"\\nEnter Any Name To Add In The String: \"))\n",
    "rev_name = \"\"\n",
    "count = len(name) - 1\n",
    "for i in name:\n",
    "    rev_name = rev_name + str(name[count])\n",
    "    count -=1\n",
    "for i in rev_name:\n",
    "    deq.appendleft(i)\n",
    "print(deq)\n",
    "count_deq = len(deq)\n",
    "output_str = \"\"\n",
    "for i in range(0, count_deq):\n",
    "    output_str = output_str + deq[i]\n",
    "print(\"\\nThe Output String Is: \\n{}\".format(output_str))"
   ]
  },
  {
   "cell_type": "markdown",
   "metadata": {},
   "source": [
    "* Reshuffle the deque to remove x from the list using pop() function\n",
    "\n"
   ]
  },
  {
   "cell_type": "code",
   "execution_count": null,
   "metadata": {
    "collapsed": false
   },
   "outputs": [],
   "source": [
    "import collections\n",
    "import random\n",
    "deq = collections.deque(\"The quick brown fox jumped too high\")\n",
    "str_deq = \"\"\n",
    "shuff_deq = \"\"\n",
    "for i in deq:\n",
    "    str_deq = str_deq + i\n",
    "print(\"The Input Deque Converted Into String Is: \\n{}\".format(str_deq))\n",
    "random.shuffle(deq)\n",
    "for i in range(0, len(deq)):\n",
    "    shuff_deq += str(deq[i])\n",
    "print(\"\\nThe Shuffled Deque Converted Into String Is: \\n{}\".format(shuff_deq))\n",
    "output_str = \"\"\n",
    "output_deq = collections.deque([])\n",
    "for i in list(deq):\n",
    "    if i == 'x':\n",
    "        output_deq.append(i)\n",
    "    else:\n",
    "        output_deq.appendleft(i)\n",
    "output_deq.pop()\n",
    "for i in range(0, len(output_deq)):\n",
    "    output_str += str(output_deq[i])\n",
    "print(\"\\nThe Shuffled Deque Without 'x': \\n{}\".format(output_str))"
   ]
  },
  {
   "cell_type": "markdown",
   "metadata": {},
   "source": [
    "* Empty the deque\n",
    "\n"
   ]
  },
  {
   "cell_type": "code",
   "execution_count": null,
   "metadata": {
    "collapsed": false
   },
   "outputs": [],
   "source": [
    "import collections\n",
    "import random\n",
    "deq = collections.deque(\"The quick brown fox jumped too high\")\n",
    "print(\"\\nThe Deque Before Was:\\n{}\".format(deq))\n",
    "for i in range(0, len(deq)):\n",
    "    deq.pop()\n",
    "print(\"\\nThe Deque After Popping:\\n{}\".format(deq))"
   ]
  },
  {
   "cell_type": "markdown",
   "metadata": {},
   "source": [
    "* Return the number of times the letter 'o' appears in the deque"
   ]
  },
  {
   "cell_type": "code",
   "execution_count": null,
   "metadata": {
    "collapsed": false
   },
   "outputs": [],
   "source": [
    "import collections\n",
    "import random\n",
    "deq = collections.deque(\"The quick brown fox jumped too high\")\n",
    "print(\"The Number Of Times The Letter 'o' Is: {}\".format(deq.count('o')))"
   ]
  },
  {
   "cell_type": "markdown",
   "metadata": {},
   "source": [
    "2 - Using Itertools Module, Generate a list where every new item is the product of the itself and the previous item.\n",
    "\n",
    "Hint: Import operator module!"
   ]
  },
  {
   "cell_type": "code",
   "execution_count": null,
   "metadata": {
    "collapsed": false
   },
   "outputs": [],
   "source": [
    "import itertools\n",
    "input_list = [1, 2, 3, 4, 5, 6, 7, 8, 9, 10]\n",
    "result_list = list(itertools.accumulate(input_list))\n",
    "print(\"\\nThe Input List Is:\\n{}\".format(input_list))\n",
    "print(\"\\nThe Output List Is:\\n{}\".format(result_list))"
   ]
  },
  {
   "cell_type": "markdown",
   "metadata": {},
   "source": [
    "3- Using dropwhile function from the itertools module, create a program that removes all the float values from the following sequence:\n",
    "\n",
    "mix = [45,7,4,4.5,0.68,88.5,564,3.454,34.3,234,.434,9,43,5.23,67.44]"
   ]
  },
  {
   "cell_type": "code",
   "execution_count": null,
   "metadata": {
    "collapsed": false
   },
   "outputs": [],
   "source": [
    "import itertools\n",
    "mix = [45,7,4,4.5,0.68,88.5,564,3.454,34.3,234,.434,9,43,5.23,67.44]\n",
    "output = list(itertools.dropwhile(lambda x: type(x) == float, mix))\n",
    "print(output)"
   ]
  }
 ],
 "metadata": {
  "kernelspec": {
   "display_name": "Python 3",
   "language": "python",
   "name": "python3"
  },
  "language_info": {
   "codemirror_mode": {
    "name": "ipython",
    "version": 3
   },
   "file_extension": ".py",
   "mimetype": "text/x-python",
   "name": "python",
   "nbconvert_exporter": "python",
   "pygments_lexer": "ipython3",
   "version": "3.6.0"
  }
 },
 "nbformat": 4,
 "nbformat_minor": 2
}
