{
 "cells": [
  {
   "cell_type": "markdown",
   "metadata": {},
   "source": [
    "## OOP Lab 9 - Exercise\n",
    "\n",
    "## Basic Functional Programming\n",
    "\n",
    "### Student Name:  SYED IBTAHAJ AHMED RIZVI\n",
    "### Student Id:  FA18-BECE-0016\n",
    "\n",
    "### Objective\n",
    "\n",
    "To learn functional programming in Python"
   ]
  },
  {
   "cell_type": "markdown",
   "metadata": {},
   "source": [
    "Question 1:\n",
    "Create a lambda that takes an integer and displays all its cube."
   ]
  },
  {
   "cell_type": "code",
   "execution_count": 1,
   "metadata": {},
   "outputs": [
    {
     "name": "stdout",
     "output_type": "stream",
     "text": [
      "Press Any Key To Continue Or Press q To Quit : \n",
      "Enter Any Integer To Calculate It's Cube: 2\n",
      "\n",
      "The Cube Of The Integer 2 Is : 8\n",
      "Press Any Key To Calculate Again Or Press q To Quit : q\n",
      "Thanks For Using!\n"
     ]
    }
   ],
   "source": [
    "press = str(input(\"Press Any Key To Continue Or Press q To Quit : \"))\n",
    "cube = lambda num: pow(num, 3)\n",
    "while press != 'q':\n",
    "    integer = int(input(\"Enter Any Integer To Calculate It's Cube: \"))\n",
    "    print(\"\\nThe Cube Of The Integer {} Is : {}\".format(integer, cube(integer)))\n",
    "    press = str(input(\"Press Any Key To Calculate Again Or Press q To Quit : \"))\n",
    "print(\"Thanks For Using!\")"
   ]
  },
  {
   "cell_type": "markdown",
   "metadata": {},
   "source": [
    "Question 2:\n",
    "Use lambda function to convert the Pressure value from bar to PSI."
   ]
  },
  {
   "cell_type": "code",
   "execution_count": 2,
   "metadata": {},
   "outputs": [
    {
     "name": "stdout",
     "output_type": "stream",
     "text": [
      "Press Any Key To Continue Or q To Quit: \n",
      "Please Enter Pressure In Bar: 34\n",
      "\n",
      "Pressure In Bar Is 34.0 = Pressure In PSI Is 493.0\n",
      "Press Any Key To Again Enter Pressure Or q To Quit: q\n",
      "Thanks For Using!\n"
     ]
    }
   ],
   "source": [
    "press = str(input(\"Press Any Key To Continue Or q To Quit: \"))\n",
    "bar_to_psi = lambda bar: bar * 14.5\n",
    "while press != 'q':\n",
    "    bar = float(input(\"Please Enter Pressure In Bar: \"))\n",
    "    print(\"\\nPressure In Bar Is {} = Pressure In PSI Is {}\".format(bar, bar_to_psi(bar)))\n",
    "    press = str(input(\"Press Any Key To Again Enter Pressure Or q To Quit: \"))\n",
    "print(\"Thanks For Using!\")"
   ]
  },
  {
   "cell_type": "markdown",
   "metadata": {},
   "source": [
    "Question 3: Use lambda functions that takes takes current and voltage as arguments and results voltage value."
   ]
  },
  {
   "cell_type": "code",
   "execution_count": 3,
   "metadata": {},
   "outputs": [
    {
     "name": "stdout",
     "output_type": "stream",
     "text": [
      "Press Any Key To Continue: \n",
      "Enter Current In Amperes: 2\n",
      "Enter Voltage In Volts: 3\n",
      "The Power When Voltage Is 3.0V And Current Is 2.0A Is 6.0 Watts\n",
      "Press Any Key To Again Enter Values Or Press 'q' To Quit: q\n",
      "Thanks For Using!\n"
     ]
    }
   ],
   "source": [
    "press = str(input(\"Press Any Key To Continue: \"))\n",
    "power = lambda x, y: x * y\n",
    "while press != 'q':\n",
    "    current = float(input(\"Enter Current In Amperes: \"))\n",
    "    voltage = float(input(\"Enter Voltage In Volts: \"))\n",
    "    print(\"The Power When Voltage Is {}V And Current Is {}A Is {} Watts\".format(voltage, current, power(voltage,current)))\n",
    "    press = str(input(\"Press Any Key To Again Enter Values Or Press 'q' To Quit: \"))\n",
    "print(\"Thanks For Using!\")"
   ]
  },
  {
   "cell_type": "markdown",
   "metadata": {},
   "source": [
    "Question 4:\n",
    "Use map functions that takes a list of strings and displays the length of each string as a list."
   ]
  },
  {
   "cell_type": "code",
   "execution_count": 4,
   "metadata": {},
   "outputs": [
    {
     "name": "stdout",
     "output_type": "stream",
     "text": [
      "Press Any Key To Continue: \n",
      "Enter How Many Strings To Add In The List: 4\n",
      "Enter 1 Element: ibtahaj\n",
      "Enter 2 Element: ahmed\n",
      "Enter 3 Element: rizvi\n",
      "Enter 4 Element: syed\n",
      "\n",
      "The Length Of Each String Is :  [7, 5, 5, 4]\n",
      "Press Any Key To Enter List Again Or Press q To Quit: q\n",
      "Thank You!\n"
     ]
    }
   ],
   "source": [
    "press = str(input(\"Press Any Key To Continue: \"))\n",
    "while press != 'q':\n",
    "    str_string = []\n",
    "    elem = int(input(\"Enter How Many Strings To Add In The List: \"))\n",
    "    count = 0\n",
    "    while(count < elem):\n",
    "        str_string.append(input(\"Enter {} Element: \".format(count + 1)))\n",
    "        count += 1\n",
    "    len_string = list(map(lambda string: len(string), str_string))\n",
    "    print(\"\\nThe Length Of Each String Is : \",len_string)\n",
    "    press = str(input(\"Press Any Key To Enter List Again Or Press q To Quit: \"))\n",
    "print(\"Thank You!\")"
   ]
  },
  {
   "cell_type": "markdown",
   "metadata": {},
   "source": [
    "Question 5:\n",
    "Use map functions to generate a list of multiples of any given number.\n"
   ]
  },
  {
   "cell_type": "code",
   "execution_count": 5,
   "metadata": {},
   "outputs": [
    {
     "name": "stdout",
     "output_type": "stream",
     "text": [
      "Enter Any Key To Continue: \n",
      "Enter Any Number To Find Its Multiple: 2\n",
      "Enter How Many Multiple you Want: 20\n",
      "\n",
      "The List Of Multiples Of 2 Is [2, 4, 6, 8, 10, 12, 14, 16, 18, 20, 22, 24, 26, 28, 30, 32, 34, 36, 38, 40]\n",
      "Enter Any Key To Continue: q\n",
      "Thanks For Using!\n"
     ]
    }
   ],
   "source": [
    "press = str(input(\"Enter Any Key To Continue: \"))\n",
    "while(press != 'q'):\n",
    "    integer = int(input(\"Enter Any Number To Find Its Multiple: \"))\n",
    "    multiples = int(input(\"Enter How Many Multiple you Want: \"))\n",
    "    my_listmul = []\n",
    "    my_listser = []\n",
    "    for i in range(0,multiples):\n",
    "        my_listmul.append(i+1)\n",
    "    for i in range(0,multiples):\n",
    "        my_listser.append(integer)\n",
    "    mul = list(map(lambda x, s: x*s , my_listser, my_listmul))\n",
    "    print(\"\\nThe List Of Multiples Of {} Is {}\".format(integer, mul))\n",
    "    press = str(input(\"Enter Any Key To Continue: \"))\n",
    "print(\"Thanks For Using!\")"
   ]
  },
  {
   "cell_type": "markdown",
   "metadata": {},
   "source": [
    "Question 6:\n",
    "Generate a list of 10 random float values. Use map function to round off the numbers up to 2 decimal places and display the new list."
   ]
  },
  {
   "cell_type": "code",
   "execution_count": 6,
   "metadata": {},
   "outputs": [
    {
     "name": "stdout",
     "output_type": "stream",
     "text": [
      "Enter Any Key To Generate a List Of 10 Float Elements Or Press q To Quit: \n",
      "\n",
      "The Input List Was: [48.72870847867765, 45.3029008955458, 66.63778963975675, 14.387361281152922, 46.13502220134708, 77.3121568519947, 76.65313166158701, 42.0798443132954, 21.999360585067997, 26.41280045884725]\n",
      "\n",
      "The Rounded Off List Is: [48.73, 45.3, 66.64, 14.39, 46.14, 77.31, 76.65, 42.08, 22.0, 26.41]\n",
      "Enter Any Key To Generate The List Again Or Press q To Quit: q\n",
      "Thanks!\n"
     ]
    }
   ],
   "source": [
    "import random\n",
    "press = str(input(\"Enter Any Key To Generate a List Of 10 Float Elements Or Press q To Quit: \"))\n",
    "while(press != 'q'):\n",
    "    my_list = []\n",
    "    for i in range(0,10):\n",
    "        my_list.append(random.uniform(0,100))\n",
    "    roundoff = list(map(lambda x: round(x, 2), my_list))\n",
    "    print(\"\\nThe Input List Was: {}\".format(my_list))\n",
    "    print(\"\\nThe Rounded Off List Is: {}\".format(roundoff))\n",
    "    press = str(input(\"Enter Any Key To Generate The List Again Or Press q To Quit: \"))\n",
    "print(\"Thanks!\")"
   ]
  },
  {
   "cell_type": "markdown",
   "metadata": {},
   "source": [
    "Question 7:\n",
    "From the list that you create in Question 6, use filters to separate the multiples of 2 and 5 in separate lists."
   ]
  },
  {
   "cell_type": "code",
   "execution_count": 7,
   "metadata": {},
   "outputs": [
    {
     "name": "stdout",
     "output_type": "stream",
     "text": [
      "Enter Any Key To Generate a List Of 10 Integer Elements Or Press q To Quit: \n",
      "The Input List Is : [445, 190, 306, 505, 916, 801, 751, 403, 408, 349]\n",
      "The List Of Multiples Of 2 Is: [190, 306, 916, 408]\n",
      "The List Of Multiples Of 5 Is: [445, 190, 505]\n",
      "Enter Any Key To Generate The List Or Press q To Quit: q\n",
      "Thanks For Using!\n"
     ]
    }
   ],
   "source": [
    "import random\n",
    "press = str(input(\"Enter Any Key To Generate a List Of 10 Integer Elements Or Press q To Quit: \"))\n",
    "while(press != 'q'):\n",
    "    my_list = []\n",
    "    for i in range(0,10):\n",
    "        my_list.append(random.randint(0,1000))\n",
    "    mul_2 = list(filter(lambda x: x % 2 == 0, my_list))\n",
    "    mul_5 = list(filter(lambda x: x % 5 == 0, my_list))\n",
    "    print(\"The Input List Is : {}\".format(my_list))\n",
    "    print(\"The List Of Multiples Of 2 Is: {}\".format(mul_2))\n",
    "    print(\"The List Of Multiples Of 5 Is: {}\".format(mul_5))\n",
    "    press = str(input(\"Enter Any Key To Generate The List Or Press q To Quit: \"))\n",
    "print(\"Thanks For Using!\")"
   ]
  },
  {
   "cell_type": "markdown",
   "metadata": {},
   "source": [
    "Question 8:\n",
    "5 students attained 65, 74, 88, 23, and 40 marks out of 90 in a given exam. Their percentages are to be calculated. Which functional programming tool will be useful for this problem. Write the code!\n"
   ]
  },
  {
   "cell_type": "code",
   "execution_count": 8,
   "metadata": {},
   "outputs": [
    {
     "name": "stdout",
     "output_type": "stream",
     "text": [
      "Enter Any Key To Continue: \n",
      "How Many Students: 5\n",
      "Enter Marks Of 1 Student Out Of 90:56\n",
      "Enter Marks Of 2 Student Out Of 90:79\n",
      "Enter Marks Of 3 Student Out Of 90:90\n",
      "Enter Marks Of 4 Student Out Of 90:87\n",
      "Enter Marks Of 5 Student Out Of 90:34\n",
      "\n",
      "The Marks List Is: [56.0, 79.0, 90.0, 87.0, 34.0]\n",
      "\n",
      "The Percentages List Is: [62.22222222222222, 87.77777777777777, 100.0, 96.66666666666667, 37.77777777777778]\n",
      "Enter Any Key To Again Enter Students Marks: \n",
      "How Many Students: 5\n",
      "Enter Marks Of 1 Student Out Of 90:45\n",
      "Enter Marks Of 2 Student Out Of 90:76\n",
      "Enter Marks Of 3 Student Out Of 90:90\n",
      "Enter Marks Of 4 Student Out Of 90:87\n",
      "Enter Marks Of 5 Student Out Of 90:67\n",
      "\n",
      "The Marks List Is: [45.0, 76.0, 90.0, 87.0, 67.0]\n",
      "\n",
      "The Percentages List Is: [50.0, 84.44444444444444, 100.0, 96.66666666666667, 74.44444444444444]\n",
      "Enter Any Key To Again Enter Students Marks: q\n",
      "Thanks!\n"
     ]
    }
   ],
   "source": [
    "press = str(input(\"Enter Any Key To Continue: \"))\n",
    "while(press != 'q'):\n",
    "    marks_list = []\n",
    "    stud = int(input(\"How Many Students: \"))\n",
    "    for i in range(0,stud):\n",
    "        marks_list.append(float(input(\"Enter Marks Of {} Student Out Of 90:\".format(i+1))))\n",
    "    per_list = list(map(lambda num: num / 90 * 100, marks_list))\n",
    "    print(\"\\nThe Marks List Is: {}\".format(marks_list))\n",
    "    print(\"\\nThe Percentages List Is: {}\".format(per_list))\n",
    "    press = str(input(\"Enter Any Key To Again Enter Students Marks: \"))\n",
    "print(\"Thanks!\")"
   ]
  },
  {
   "cell_type": "markdown",
   "metadata": {},
   "source": [
    "Question 9:\n",
    "Generate 3 lists of integers having 10 elements each. The integers should range between 1 and 20. Use funcitonal programming to display:\n",
    "\n",
    "The average of corresponding elements\n",
    "LCM of the corresponding elements\n",
    "Make your code as concise as possible"
   ]
  },
  {
   "cell_type": "code",
   "execution_count": 9,
   "metadata": {},
   "outputs": [
    {
     "name": "stdout",
     "output_type": "stream",
     "text": [
      "Press Any Key To Generate 3 Lists Of Integers: \n",
      "\n",
      "The Given Lists Are:\n",
      "List 1: [18, 19, 16, 12, 6, 20, 11, 10, 8, 12]\n",
      "List 2: [15, 9, 7, 3, 15, 11, 6, 8, 20, 12]\n",
      "List 3: [14, 20, 11, 13, 14, 17, 6, 1, 8, 8]\n",
      "\n",
      "The Corresponding Element's LCM List Is:\n",
      "[630, 3420, 1232, 156, 210, 3740, 66, 40, 40, 24]\n",
      "Press Any Key To Generate 3 Lists Again Or Press 'q' To Quit: q\n",
      "Thanks For Using!\n"
     ]
    }
   ],
   "source": [
    "import random\n",
    "def calc_lcm(x, y, z):  \n",
    "    nu_list = []\n",
    "    nu_list.append(x)\n",
    "    nu_list.append(y)\n",
    "    nu_list.append(z)\n",
    "    nu_list.sort()\n",
    "    largest = nu_list[len(nu_list) - 1]\n",
    "    while(True):  \n",
    "        if((largest % x == 0) and (largest % y == 0) and (largest % z == 0)):  \n",
    "            lcm = largest\n",
    "            break\n",
    "        largest += 1  \n",
    "    return lcm\n",
    "#====================================================================================================\n",
    "press = str(input(\"Press Any Key To Generate 3 Lists Of Integers: \"))\n",
    "while(press != 'q'):\n",
    "    list_1 = []\n",
    "    list_2 = []\n",
    "    list_3 = []\n",
    "    l_c_m = []\n",
    "    for i in range(0,10):\n",
    "        list_1.append(random.randint(2,20))\n",
    "    for i in range(0,10):\n",
    "        list_2.append(random.randint(3,20))\n",
    "    for i in range(0,10):\n",
    "        list_3.append(random.randint(1,20))\n",
    "    print(\"\\nThe Given Lists Are:\\nList 1: {}\\nList 2: {}\\nList 3: {}\".format(list_1, list_2, list_3))\n",
    "    lcm = list(map(lambda a,b,c: calc_lcm(a,b,c), list_1, list_2, list_3))\n",
    "    print(\"\\nThe Corresponding Element's LCM List Is:\\n{}\".format(lcm))\n",
    "    press = str(input(\"Press Any Key To Generate 3 Lists Again Or Press 'q' To Quit: \"))\n",
    "print(\"Thanks For Using!\")"
   ]
  },
  {
   "cell_type": "markdown",
   "metadata": {},
   "source": [
    "Question 10:\n",
    "Write a Python code that filters out string, float and integer values from the folowing list and displays each list separately.\n",
    "\n",
    "random_list = ['book', 21, 2.67, 'friend', 'sports', 65, 'student', 45.32]\n"
   ]
  },
  {
   "cell_type": "code",
   "execution_count": 10,
   "metadata": {},
   "outputs": [
    {
     "name": "stdout",
     "output_type": "stream",
     "text": [
      "Press Any Key To Continue: \n",
      "\n",
      "Input List Is: \n",
      "['book', 21, 2.67, 'friend', 'sports', 65, 'student', 45.32]\n",
      "\n",
      "The String Seperated List Is: ['book', 'friend', 'sports', 'student']\n",
      "\n",
      "The Integer Values Seperated List Is: [21, 65]\n",
      "\n",
      "The Float Values Seperated List Is: [21, 65]\n",
      "\n",
      "Press Any Key To Seperate Again Or Press 'q' to Quit: q\n",
      "Thank You!\n"
     ]
    }
   ],
   "source": [
    "press = str(input(\"Press Any Key To Continue: \"))\n",
    "while(press != 'q'):\n",
    "    random_list = ['book', 21, 2.67, 'friend', 'sports', 65, 'student', 45.32]\n",
    "    str_list = list(filter(lambda x: x if type(x) == str else None, random_list))\n",
    "    int_list = list(filter(lambda x: x if type(x) == int else None, random_list))\n",
    "    float_list = list(filter(lambda x: x if type(x) == int else None, random_list))\n",
    "    \n",
    "    print(\"\\nInput List Is: \\n{}\".format(random_list))\n",
    "    print(\"\\nThe String Seperated List Is: {}\".format(str_list))\n",
    "    print(\"\\nThe Integer Values Seperated List Is: {}\".format(int_list))\n",
    "    print(\"\\nThe Float Values Seperated List Is: {}\".format(float_list))\n",
    "    press = str(input(\"\\nPress Any Key To Seperate Again Or Press 'q' to Quit: \"))\n",
    "print(\"Thank You!\")"
   ]
  }
 ],
 "metadata": {
  "kernelspec": {
   "display_name": "Python 3",
   "language": "python",
   "name": "python3"
  },
  "language_info": {
   "codemirror_mode": {
    "name": "ipython",
    "version": 3
   },
   "file_extension": ".py",
   "mimetype": "text/x-python",
   "name": "python",
   "nbconvert_exporter": "python",
   "pygments_lexer": "ipython3",
   "version": "3.7.3"
  }
 },
 "nbformat": 4,
 "nbformat_minor": 2
}
